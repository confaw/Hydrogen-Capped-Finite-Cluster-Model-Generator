{
 "cells": [
  {
   "cell_type": "code",
   "execution_count": 1,
   "id": "b752761d-c1c8-433e-8da6-a7a0dba73c02",
   "metadata": {},
   "outputs": [],
   "source": [
    "from ase.io import read, write\n",
    "from ase.neighborlist import NeighborList, natural_cutoffs\n",
    "from ase.data import covalent_radii, atomic_numbers\n",
    "from ase import Atom\n",
    "import numpy as np\n",
    "from ase.visualize import view"
   ]
  },
  {
   "cell_type": "code",
   "execution_count": 2,
   "id": "d67e1aca-a982-49e7-a938-18d01d1cde0e",
   "metadata": {},
   "outputs": [],
   "source": [
    "cluster = read('LMS CONTCAR Exp.xyz', format='xyz')"
   ]
  },
  {
   "cell_type": "code",
   "execution_count": 3,
   "id": "db35bcb8-a9e2-4d6a-a314-564278f5a0dd",
   "metadata": {},
   "outputs": [],
   "source": [
    "scaling_factor = 0.85\n",
    "cutoffs = natural_cutoffs(cluster, mult=scaling_factor)"
   ]
  },
  {
   "cell_type": "code",
   "execution_count": 4,
   "id": "c6b48102-72ee-4231-8acd-339a34617842",
   "metadata": {},
   "outputs": [
    {
     "data": {
      "text/plain": [
       "True"
      ]
     },
     "execution_count": 4,
     "metadata": {},
     "output_type": "execute_result"
    }
   ],
   "source": [
    "nl = NeighborList(cutoffs, self_interaction=False, bothways=True)\n",
    "nl.update(cluster)"
   ]
  },
  {
   "cell_type": "code",
   "execution_count": 5,
   "id": "750f9578-a1ba-4a63-850d-4ef6519a7770",
   "metadata": {},
   "outputs": [
    {
     "name": "stdout",
     "output_type": "stream",
     "text": [
      "\n",
      "Atom 287 (O) has neighbors:\n",
      " - Neighbor 95: Li, Distance: 2.18 Å\n",
      " - Neighbor 139: Si, Distance: 1.70 Å\n",
      " - Neighbor 175: Si, Distance: 1.70 Å\n",
      "\n",
      "Atom 288 (O) has neighbors:\n",
      " - Neighbor 16: Li, Distance: 1.97 Å\n",
      "\n",
      "Atom 295 (O) has neighbors:\n",
      " - Neighbor 6: Li, Distance: 1.95 Å\n",
      " - Neighbor 23: Li, Distance: 1.97 Å\n",
      " - Neighbor 62: Li, Distance: 1.94 Å\n",
      " - Neighbor 198: Si, Distance: 1.61 Å\n"
     ]
    }
   ],
   "source": [
    "atom_indices_to_check = [287,288, 295]  # Replace with indices relevant to your cluster\n",
    "\n",
    "for atom_index in atom_indices_to_check:\n",
    "    indices, offsets = nl.get_neighbors(atom_index)\n",
    "    print(f\"\\nAtom {atom_index} ({cluster[atom_index].symbol}) has neighbors:\")\n",
    "    for neighbor_index in indices:\n",
    "        neighbor_atom = cluster[neighbor_index]\n",
    "        distance = cluster.get_distance(atom_index, neighbor_index)\n",
    "        print(f\" - Neighbor {neighbor_index}: {neighbor_atom.symbol}, Distance: {distance:.2f} Å\")"
   ]
  },
  {
   "cell_type": "code",
   "execution_count": 6,
   "id": "293efbe1-ac34-4585-872e-7e0e4393de71",
   "metadata": {},
   "outputs": [],
   "source": [
    "expected_coordination = {'Li': 4, 'Si': 4, 'O': 4}"
   ]
  },
  {
   "cell_type": "code",
   "execution_count": 7,
   "id": "74f594fd-ddd3-4478-848c-b9af2f3a5b4d",
   "metadata": {},
   "outputs": [],
   "source": [
    "undercoordinated_oxygens = []\n",
    "\n",
    "for i, atom in enumerate(cluster):\n",
    "    if atom.symbol == 'O':\n",
    "        indices, offsets = nl.get_neighbors(i)\n",
    "        actual_cn = len(indices)\n",
    "        expected_cn = expected_coordination['O']\n",
    "        if actual_cn < expected_cn:\n",
    "            missing_bonds = expected_cn - actual_cn\n",
    "            undercoordinated_oxygens.append((i, missing_bonds))"
   ]
  },
  {
   "cell_type": "code",
   "execution_count": 11,
   "id": "2d1f4adf-0a31-46c2-b31c-f5543748b08c",
   "metadata": {},
   "outputs": [],
   "source": [
    "from scipy.spatial.transform import Rotation\n",
    "\n",
    "def get_tetrahedral_vectors():\n",
    "    \"\"\"Returns four unit vectors pointing from the center to the vertices of a regular tetrahedron.\"\"\"\n",
    "    a = 1.0 / np.sqrt(3)\n",
    "    return np.array([\n",
    "        [ a,  a,  a],\n",
    "        [-a, -a,  a],\n",
    "        [-a,  a, -a],\n",
    "        [ a, -a, -a],\n",
    "    ])\n",
    "\n",
    "oh_bond_length = 0.96\n",
    "\n",
    "for index, missing_bonds in undercoordinated_oxygens:\n",
    "    atom = cluster[index]\n",
    "    atom_position = atom.position\n",
    "    indices, offsets = nl.get_neighbors(index)\n",
    "    neighbor_positions = cluster.positions[indices] + np.dot(offsets, cluster.get_cell())\n",
    "    \n",
    "    existing_bonds = neighbor_positions - atom_position\n",
    "    existing_bonds /= np.linalg.norm(existing_bonds, axis=1)[:, np.newaxis]\n",
    "    \n",
    "    num_existing_bonds = len(existing_bonds)\n",
    "    num_missing_bonds = missing_bonds\n",
    "\n",
    "    ideal_bonds = get_tetrahedral_vectors()\n",
    "\n",
    "    if num_existing_bonds >= 2:\n",
    "        # Use Kabsch algorithm to find rotation matrix\n",
    "        ideal_existing_bonds = ideal_bonds[:num_existing_bonds]\n",
    "        \n",
    "        # Apply Kabsch algorithm without transposing\n",
    "        def kabsch(P, Q):\n",
    "            \"\"\"Finds the optimal rotation matrix R that minimizes the RMSD between P and Q.\"\"\"\n",
    "            P_mean = np.mean(P, axis=0)\n",
    "            Q_mean = np.mean(Q, axis=0)\n",
    "            P_centered = P - P_mean\n",
    "            Q_centered = Q - Q_mean\n",
    "            C = np.dot(P_centered.T, Q_centered)\n",
    "            V, S, Wt = np.linalg.svd(C)\n",
    "            d = np.linalg.det(np.dot(V, Wt)) < 0.0\n",
    "            if d:\n",
    "                Wt[-1, :] *= -1\n",
    "            R = np.dot(V, Wt)\n",
    "            return R\n",
    "\n",
    "        R = kabsch(existing_bonds, ideal_existing_bonds)\n",
    "\n",
    "        # Rotate all ideal bonds using the rotation matrix\n",
    "        rotated_ideal_bonds = np.dot(ideal_bonds, R)\n",
    "\n",
    "        # Identify missing bond directions\n",
    "        used_indices = []\n",
    "        for i in range(num_existing_bonds):\n",
    "            distances = np.linalg.norm(rotated_ideal_bonds - existing_bonds[i], axis=1)\n",
    "            min_index = np.argmin(distances)\n",
    "            used_indices.append(min_index)\n",
    "        \n",
    "        missing_indices = [i for i in range(4) if i not in used_indices]\n",
    "        missing_bond_vectors = rotated_ideal_bonds[missing_indices]\n",
    "    elif num_existing_bonds == 1:\n",
    "        # Handle single existing bond case\n",
    "        existing_vec = existing_bonds[0]\n",
    "        # Generate two vectors orthogonal to existing_vec\n",
    "        arbitrary_vec = np.array([1, 0, 0])\n",
    "        if np.allclose(existing_vec, arbitrary_vec):\n",
    "            arbitrary_vec = np.array([0, 1, 0])\n",
    "        ortho_vec1 = np.cross(existing_vec, arbitrary_vec)\n",
    "        ortho_vec1 /= np.linalg.norm(ortho_vec1)\n",
    "        ortho_vec2 = np.cross(existing_vec, ortho_vec1)\n",
    "        ortho_vec2 /= np.linalg.norm(ortho_vec2)\n",
    "        # Calculate missing bond vectors\n",
    "        angle = 109.5 * np.pi / 180  # Tetrahedral angle in radians\n",
    "        sin_theta = np.sin(angle)\n",
    "        cos_theta = np.cos(angle)\n",
    "        missing_bond_vectors = np.array([\n",
    "            cos_theta * existing_vec + sin_theta * ortho_vec1,\n",
    "            cos_theta * existing_vec - sin_theta * ortho_vec1,\n",
    "            -existing_vec\n",
    "        ])\n",
    "    else:\n",
    "        # No existing bonds; use ideal tetrahedral vectors\n",
    "        missing_bond_vectors = ideal_bonds\n",
    "\n",
    "    # Add hydrogens along missing bond vectors\n",
    "    for vec in missing_bond_vectors:\n",
    "        h_position = atom_position + vec * oh_bond_length\n",
    "        cluster.append(Atom('H', position=h_position))"
   ]
  },
  {
   "cell_type": "code",
   "execution_count": 9,
   "id": "ad832577-4ab5-40d4-85f2-f8902584f005",
   "metadata": {},
   "outputs": [
    {
     "data": {
      "text/plain": [
       "<Popen: returncode: None args: ['/Library/Frameworks/Python.framework/Versio...>"
      ]
     },
     "execution_count": 9,
     "metadata": {},
     "output_type": "execute_result"
    }
   ],
   "source": [
    "view(cluster)"
   ]
  },
  {
   "cell_type": "code",
   "execution_count": 10,
   "id": "36d68d1f-3c68-4a55-8602-f73ac29c1265",
   "metadata": {},
   "outputs": [],
   "source": [
    "write(\"updated_cluster.xyz\", cluster)"
   ]
  },
  {
   "cell_type": "code",
   "execution_count": null,
   "id": "0627bede-b90c-4eb5-a2d3-20ec4c9a08fa",
   "metadata": {},
   "outputs": [],
   "source": []
  }
 ],
 "metadata": {
  "kernelspec": {
   "display_name": "Python 3 (ipykernel)",
   "language": "python",
   "name": "python3"
  },
  "language_info": {
   "codemirror_mode": {
    "name": "ipython",
    "version": 3
   },
   "file_extension": ".py",
   "mimetype": "text/x-python",
   "name": "python",
   "nbconvert_exporter": "python",
   "pygments_lexer": "ipython3",
   "version": "3.12.6"
  }
 },
 "nbformat": 4,
 "nbformat_minor": 5
}
